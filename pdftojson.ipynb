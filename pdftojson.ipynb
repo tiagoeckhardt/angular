import tabula
# convert PDF into CSV file​
csv = tabula.convert_into("https://covid19.min-saude.pt/wp-content/uploads/2020/05/61_DGS_boletim_20200502_V2.pdf", "test.json", pages='3', output_format="json")
!cat test.json
